{
 "cells": [
  {
   "cell_type": "markdown",
   "id": "d87c04d7",
   "metadata": {},
   "source": [
    "![alt text](handwriting_20250526_231323_via_10015_io_page-0001-1.jpg)"
   ]
  },
  {
   "cell_type": "markdown",
   "id": "0e3f870e",
   "metadata": {},
   "source": [
    "![alt text](handwriting_20250526_231323_via_10015_io_page-0002-1.jpg)"
   ]
  },
  {
   "cell_type": "markdown",
   "id": "9e2b7593",
   "metadata": {},
   "source": [
    "![alt text](handwriting_20250526_231323_via_10015_io_page-0003-1.jpg)"
   ]
  },
  {
   "cell_type": "markdown",
   "id": "02a2cb93",
   "metadata": {},
   "source": [
    "![alt text](handwriting_20250526_231323_via_10015_io_page-0004-1.jpg)"
   ]
  },
  {
   "cell_type": "code",
   "execution_count": 3,
   "id": "2abe0c2f",
   "metadata": {},
   "outputs": [
    {
     "data": {
      "text/plain": [
       "'HELLO'"
      ]
     },
     "execution_count": 3,
     "metadata": {},
     "output_type": "execute_result"
    }
   ],
   "source": [
    "#1. Difference between a function and a method in Python\n",
    "#Function: A block of code that performs a task and is defined using def.\n",
    "#Method: A function that is associated with an object and called using the dot (.) operator.\n",
    "\n",
    "#Example:\n",
    "def greet():\n",
    "    print(\"Hello\")  # Function\n",
    "\n",
    "\"hello\".upper()     # Method (upper is a method of str object)\n"
   ]
  },
  {
   "cell_type": "code",
   "execution_count": 4,
   "id": "f623d7a1",
   "metadata": {},
   "outputs": [
    {
     "data": {
      "text/plain": [
       "8"
      ]
     },
     "execution_count": 4,
     "metadata": {},
     "output_type": "execute_result"
    }
   ],
   "source": [
    "# 2. Function arguments and parameters\n",
    "# Parameters are variables listed in a function definition.\n",
    "# Arguments are the actual values passed when calling the function.\n",
    "\n",
    "# Example:\n",
    "def add(a, b):  # a and b are parameters\n",
    "    return a + b\n",
    "\n",
    "add(3, 5)       # 3 and 5 are arguments\n"
   ]
  },
  {
   "cell_type": "code",
   "execution_count": 5,
   "id": "8d041f2d",
   "metadata": {},
   "outputs": [
    {
     "name": "stdout",
     "output_type": "stream",
     "text": [
      "16\n",
      "6\n"
     ]
    }
   ],
   "source": [
    "# 3. Ways to define and call functions\n",
    "# Define using def, or lambda for anonymous functions.\n",
    "# Call using function_name(arguments).\n",
    "\n",
    "# Example:\n",
    "def square(x):\n",
    "    return x * x\n",
    "\n",
    "print(square(4))\n",
    "\n",
    "double = lambda x: x * 2\n",
    "print(double(3))\n"
   ]
  },
  {
   "cell_type": "code",
   "execution_count": 6,
   "id": "8e1b951c",
   "metadata": {},
   "outputs": [],
   "source": [
    "# 4. Purpose of the return statement\n",
    "# It ends a function and optionally sends back a result to the caller.\n",
    "\n",
    "# Example:\n",
    "def multiply(a, b):\n",
    "    return a * b\n",
    "\n",
    "result = multiply(2, 3)  # result = 6\n"
   ]
  },
  {
   "cell_type": "code",
   "execution_count": 7,
   "id": "fbbb5c99",
   "metadata": {},
   "outputs": [
    {
     "name": "stdout",
     "output_type": "stream",
     "text": [
      "1\n"
     ]
    }
   ],
   "source": [
    "# 5. Iterators vs Iterables\n",
    "# Iterable: Can be looped over (e.g., lists, strings).\n",
    "# Iterator: An object that returns elements using __next__().\n",
    "\n",
    "# Example:\n",
    "nums = [1, 2, 3]\n",
    "it = iter(nums)  # Convert iterable to iterator\n",
    "\n",
    "print(next(it))  # 1\n"
   ]
  },
  {
   "cell_type": "code",
   "execution_count": 8,
   "id": "60beea27",
   "metadata": {},
   "outputs": [
    {
     "name": "stdout",
     "output_type": "stream",
     "text": [
      "1\n",
      "2\n",
      "3\n"
     ]
    }
   ],
   "source": [
    "# 6. Generators and how they are defined\n",
    "# Generators are functions that use yield to return one value at a time.\n",
    "\n",
    "# Example\n",
    "def count_up_to(n):\n",
    "    i = 1\n",
    "    while i <= n:\n",
    "        yield i\n",
    "        i += 1\n",
    "\n",
    "for num in count_up_to(3):\n",
    "    print(num)  # 1 2 3\n"
   ]
  },
  {
   "cell_type": "code",
   "execution_count": 11,
   "id": "0a056cc6",
   "metadata": {},
   "outputs": [],
   "source": [
    "# 7. Advantages of generators\n",
    "# Memory efficient (doesn't store all values in memory).\n",
    "# Useful for large datasets or infinite sequences.\n",
    "\n",
    "# Example:\n",
    "def infinite_numbers():\n",
    "    num = 0\n",
    "    while True:\n",
    "        yield num\n",
    "        num += 1\n",
    "\n"
   ]
  },
  {
   "cell_type": "code",
   "execution_count": 12,
   "id": "5ffe4827",
   "metadata": {},
   "outputs": [
    {
     "name": "stdout",
     "output_type": "stream",
     "text": [
      "16\n"
     ]
    }
   ],
   "source": [
    "# # 8. Lambda function\n",
    "# # Anonymous function defined with lambda.\n",
    "# # Used for short, simple operations (often in map, filter, sorted).\n",
    "\n",
    "# Example:\n",
    "square = lambda x: x * x\n",
    "print(square(4))  # 16\n"
   ]
  },
  {
   "cell_type": "code",
   "execution_count": 13,
   "id": "582d28e2",
   "metadata": {},
   "outputs": [
    {
     "name": "stdout",
     "output_type": "stream",
     "text": [
      "[1, 4, 9]\n"
     ]
    }
   ],
   "source": [
    "# 9. Purpose and usage of map()\n",
    "# Applies a function to all elements in an iterable.\n",
    "\n",
    "# Example:\n",
    "nums = [1, 2, 3]\n",
    "squared = list(map(lambda x: x * x, nums))\n",
    "print(squared)  # [1, 4, 9]\n",
    "\n"
   ]
  },
  {
   "cell_type": "code",
   "execution_count": 16,
   "id": "48159055",
   "metadata": {},
   "outputs": [
    {
     "name": "stdout",
     "output_type": "stream",
     "text": [
      "[1, 4, 9, 16]\n",
      "[2, 4]\n",
      "24\n"
     ]
    }
   ],
   "source": [
    "# 10. Difference between map(), reduce(), and filter()\n",
    "# Function\tPurpose\tReturns\n",
    "# map()\tApplies a function to all items\tTransformed iterable\n",
    "# filter()\tFilters items using a function\tFiltered iterable\n",
    "# reduce()\tReduces items to a single value\tSingle result\n",
    "# Example:\n",
    "from functools import reduce\n",
    "\n",
    "nums = [1, 2, 3, 4]\n",
    "\n",
    "# map\n",
    "squared = list(map(lambda x: x * x, nums))  \n",
    "print(squared)\n",
    "# filter\n",
    "evens = list(filter(lambda x: x % 2 == 0, nums))  \n",
    "print(evens)\n",
    "# reduce\n",
    "product = reduce(lambda x, y: x * y, nums)  \n",
    "print(product)"
   ]
  },
  {
   "cell_type": "code",
   "execution_count": null,
   "id": "8928b5f7",
   "metadata": {},
   "outputs": [
    {
     "name": "stdout",
     "output_type": "stream",
     "text": [
      "113\n"
     ]
    }
   ],
   "source": [
    "# 11. Internal working of reduce (on [47,11,42,13])\n",
    "# This part needs to be handwritten and scanned as per your assignment. But here’s how the reduce function works step by step:\n",
    "\n",
    "\n",
    "\n",
    "from functools import reduce\n",
    "\n",
    "nums = [47, 11, 42, 13]\n",
    "result = reduce(lambda x, y: x + y, nums)\n",
    "print(result)\n",
    "\n",
    "# Step 1: 47 + 11 = 58\n",
    "# Step 2: 58 + 42 = 100\n",
    "# Step 3: 100 + 13 = 113"
   ]
  },
  {
   "cell_type": "code",
   "execution_count": null,
   "id": "f8c3e567",
   "metadata": {},
   "outputs": [],
   "source": []
  }
 ],
 "metadata": {
  "kernelspec": {
   "display_name": "base",
   "language": "python",
   "name": "python3"
  },
  "language_info": {
   "codemirror_mode": {
    "name": "ipython",
    "version": 3
   },
   "file_extension": ".py",
   "mimetype": "text/x-python",
   "name": "python",
   "nbconvert_exporter": "python",
   "pygments_lexer": "ipython3",
   "version": "3.12.7"
  }
 },
 "nbformat": 4,
 "nbformat_minor": 5
}
